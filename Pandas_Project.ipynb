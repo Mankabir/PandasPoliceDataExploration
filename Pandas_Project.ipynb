{
 "cells": [
  {
   "cell_type": "markdown",
   "id": "1bb2be6d",
   "metadata": {},
   "source": [
    "# Analysing Police Activity with Pandas\n",
    "\n",
    "This notebook aims to analyze police activity data from Tennessee, Nashville, using Pandas. The analysis will focus on understanding patterns related to gender, time of the day, and other factors in traffic stops.\n"
   ]
  },
  {
   "cell_type": "markdown",
   "id": "82dc7b37",
   "metadata": {},
   "source": [
    "## Data Loading and Cleaning"
   ]
  },
  {
   "cell_type": "markdown",
   "id": "8d95e8cc",
   "metadata": {},
   "source": [
    "### Import the Relevant Libraries"
   ]
  },
  {
   "cell_type": "code",
   "execution_count": 2,
   "id": "b72bd96a",
   "metadata": {},
   "outputs": [],
   "source": [
    "import pandas as pd\n",
    "import numpy as np\n",
    "import matplotlib.pyplot as plt"
   ]
  },
  {
   "cell_type": "markdown",
   "id": "55b4d819",
   "metadata": {},
   "source": [
    "### Load the Data"
   ]
  },
  {
   "cell_type": "code",
   "execution_count": 3,
   "id": "6ba647ba",
   "metadata": {},
   "outputs": [
    {
     "name": "stderr",
     "output_type": "stream",
     "text": [
      "C:\\Users\\Mankabir\\AppData\\Local\\Temp\\ipykernel_14540\\4182936927.py:1: DtypeWarning: Columns (6,8,15,16,17,22,23,24,25,29,30,31,32,33,35,36,37,38,40,41) have mixed types. Specify dtype option on import or set low_memory=False.\n",
      "  df = pd.read_csv('tn_nashville_2020_04_01.csv')\n"
     ]
    }
   ],
   "source": [
    "df = pd.read_csv('tn_nashville_2020_04_01.csv')"
   ]
  },
  {
   "cell_type": "markdown",
   "id": "4a111626",
   "metadata": {},
   "source": [
    "## Initial Data Exploration\n",
    "\n",
    "Getting a feel for the data by looking at the first few rows, the column names, and the original row count.\n"
   ]
  },
  {
   "cell_type": "code",
   "execution_count": 4,
   "id": "9c934032",
   "metadata": {},
   "outputs": [
    {
     "name": "stdout",
     "output_type": "stream",
     "text": [
      "  raw_row_number        date      time  \\\n",
      "0         232947  2010-10-10       NaN   \n",
      "1         237161  2010-10-10  10:00:00   \n",
      "2         232902  2010-10-10  10:00:00   \n",
      "3         233219  2010-10-10  22:00:00   \n",
      "4         232780  2010-10-10  01:00:00   \n",
      "\n",
      "                                            location        lat        lng  \\\n",
      "0  DOMINICAN DR & ROSA L PARKS BLVD, NASHVILLE, T...  36.187925 -86.798519   \n",
      "1            1122 LEBANON PIKE, NASHVILLE, TN, 37210  36.155521 -86.735902   \n",
      "2                       898 DAVIDSON DR, , TN, 37205  36.117420 -86.895593   \n",
      "3  MURFREESBORO PIKE & NASHBORO BLVD, ANTIOCH, TN...  36.086799 -86.648581   \n",
      "4                      BUCHANAN ST, NORTH, TN, 37208  36.180038 -86.809109   \n",
      "\n",
      "  precinct  reporting_area   zone  subject_age  ...  \\\n",
      "0      6.0          4403.0  611.0         27.0  ...   \n",
      "1      5.0          9035.0  513.0         18.0  ...   \n",
      "2      1.0          5005.0  121.0         52.0  ...   \n",
      "3      3.0          8891.0  325.0         25.0  ...   \n",
      "4      NaN             NaN    NaN         21.0  ...   \n",
      "\n",
      "  raw_traffic_citation_issued raw_misd_state_citation_issued  \\\n",
      "0                       False                            NaN   \n",
      "1                        True                            NaN   \n",
      "2                       False                            NaN   \n",
      "3                       False                            NaN   \n",
      "4                       False                            NaN   \n",
      "\n",
      "  raw_suspect_ethnicity raw_driver_searched raw_passenger_searched  \\\n",
      "0                     N               False                  False   \n",
      "1                     N               False                  False   \n",
      "2                     N               False                  False   \n",
      "3                     N               False                  False   \n",
      "4                     N                True                   True   \n",
      "\n",
      "  raw_search_consent raw_search_arrest raw_search_warrant  \\\n",
      "0              False             False              False   \n",
      "1              False             False              False   \n",
      "2              False             False              False   \n",
      "3              False             False              False   \n",
      "4              False             False              False   \n",
      "\n",
      "  raw_search_inventory raw_search_plain_view  \n",
      "0                False                 False  \n",
      "1                False                 False  \n",
      "2                False                 False  \n",
      "3                False                 False  \n",
      "4                False                 False  \n",
      "\n",
      "[5 rows x 42 columns]\n"
     ]
    }
   ],
   "source": [
    "print(df.head())"
   ]
  },
  {
   "cell_type": "code",
   "execution_count": 6,
   "id": "4701fe8a",
   "metadata": {},
   "outputs": [
    {
     "name": "stdout",
     "output_type": "stream",
     "text": [
      "Index(['raw_row_number', 'date', 'time', 'location', 'lat', 'lng', 'precinct',\n",
      "       'reporting_area', 'zone', 'subject_age', 'subject_race', 'subject_sex',\n",
      "       'officer_id_hash', 'type', 'violation', 'arrest_made',\n",
      "       'citation_issued', 'warning_issued', 'outcome', 'contraband_found',\n",
      "       'contraband_drugs', 'contraband_weapons', 'frisk_performed',\n",
      "       'search_conducted', 'search_person', 'search_vehicle', 'search_basis',\n",
      "       'reason_for_stop', 'vehicle_registration_state', 'notes',\n",
      "       'raw_verbal_warning_issued', 'raw_written_warning_issued',\n",
      "       'raw_traffic_citation_issued', 'raw_misd_state_citation_issued',\n",
      "       'raw_suspect_ethnicity', 'raw_driver_searched',\n",
      "       'raw_passenger_searched', 'raw_search_consent', 'raw_search_arrest',\n",
      "       'raw_search_warrant', 'raw_search_inventory', 'raw_search_plain_view'],\n",
      "      dtype='object')\n"
     ]
    }
   ],
   "source": [
    "print(df.columns)"
   ]
  },
  {
   "cell_type": "code",
   "execution_count": 11,
   "id": "ec83c37d",
   "metadata": {},
   "outputs": [
    {
     "name": "stdout",
     "output_type": "stream",
     "text": [
      "Original Row Count of DataFrame: 3092351\n"
     ]
    }
   ],
   "source": [
    "row_count = len(df)\n",
    "print(f'Original Row Count of DataFrame: {row_count}')"
   ]
  },
  {
   "cell_type": "markdown",
   "id": "6c6432b3",
   "metadata": {},
   "source": [
    "## Data Cleaning and Preprocessing\n",
    "\n",
    "Preparing the data for analysis by handling missing values and creating additional columns as required.\n"
   ]
  },
  {
   "cell_type": "code",
   "execution_count": 12,
   "id": "abb3076e",
   "metadata": {},
   "outputs": [
    {
     "name": "stdout",
     "output_type": "stream",
     "text": [
      "5467\n"
     ]
    }
   ],
   "source": [
    "nan_count = df['time'].isna().sum()\n",
    "print(nan_count)"
   ]
  },
  {
   "cell_type": "code",
   "execution_count": 12,
   "id": "24f06884",
   "metadata": {},
   "outputs": [],
   "source": [
    "new_df = df[df['time'].notna()].copy()"
   ]
  },
  {
   "cell_type": "code",
   "execution_count": 13,
   "id": "3f52b82c",
   "metadata": {},
   "outputs": [
    {
     "name": "stdout",
     "output_type": "stream",
     "text": [
      "New Row Count of DataFrame: 3086884\n"
     ]
    }
   ],
   "source": [
    "new_row_count = len(new_df)\n",
    "print(f'New Row Count of DataFrame: {new_row_count}')"
   ]
  },
  {
   "cell_type": "markdown",
   "id": "bcf11507",
   "metadata": {},
   "source": [
    "### Creating a Datetime Index\n",
    "\n",
    "Splitting the 'time' column to create separate hour and minute columns, which will be useful for time-based analysis.\n"
   ]
  },
  {
   "cell_type": "code",
   "execution_count": 14,
   "id": "fbb6bbe1",
   "metadata": {},
   "outputs": [],
   "source": [
    "time_split = new_df['time'].str.split(':', expand=True)\n",
    "new_df['hour'] = time_split[0].astype(int)\n",
    "new_df['minute'] = time_split[1].astype(int)"
   ]
  },
  {
   "cell_type": "code",
   "execution_count": 15,
   "id": "fc43307b",
   "metadata": {},
   "outputs": [
    {
     "name": "stdout",
     "output_type": "stream",
     "text": [
      "hour\n",
      "0     150878\n",
      "1     107333\n",
      "2      78716\n",
      "3      62944\n",
      "4      53923\n",
      "5      68576\n",
      "6      44623\n",
      "7      96005\n",
      "8     144043\n",
      "9     157989\n",
      "10    167580\n",
      "11    126215\n",
      "12    161046\n",
      "13    155085\n",
      "14    105012\n",
      "15    160626\n",
      "16    183053\n",
      "17    156616\n",
      "18    126324\n",
      "19    145325\n",
      "20    164395\n",
      "21    162778\n",
      "22    131879\n",
      "23    175920\n",
      "dtype: int64\n"
     ]
    }
   ],
   "source": [
    "hourly_count = new_df.groupby('hour').size()\n",
    "print(hourly_count)"
   ]
  },
  {
   "cell_type": "markdown",
   "id": "8bef6d49",
   "metadata": {},
   "source": [
    "## Exploratory Data Analysis (EDA)\n",
    "\n",
    "Visualizing the number of violations per hour to understand trends over the day.\n"
   ]
  },
  {
   "cell_type": "code",
   "execution_count": 16,
   "id": "cb188714",
   "metadata": {},
   "outputs": [
    {
     "data": {
      "image/png": "[encoded data removed]",
      "text/plain": [
       "<Figure size 640x480 with 1 Axes>"
      ]
     },
     "metadata": {},
     "output_type": "display_data"
    }
   ],
   "source": [
    "plt.bar(hourly_count.index, hourly_count.values)\n",
    "plt.xlabel('Hour')\n",
    "plt.ylabel('Count')\n",
    "plt.title('Number of Violations per Hour')\n",
    "plt.show()"
   ]
  },
  {
   "cell_type": "markdown",
   "id": "6aab4c80",
   "metadata": {},
   "source": [
    "### Analyzing Drug-related Incidents\n",
    "\n",
    "Question: How often are drugs found during traffic stops?\n",
    "\n",
    "This section counts the instances where drugs were found during traffic stops.\n"
   ]
  },
  {
   "cell_type": "code",
   "execution_count": 8,
   "id": "a3f95c03",
   "metadata": {},
   "outputs": [
    {
     "name": "stdout",
     "output_type": "stream",
     "text": [
      "Drugs were found 21377 times.\n"
     ]
    }
   ],
   "source": [
    "num_drugs_found = df['contraband_drugs'].sum()\n",
    "print(f\"Drugs were found {num_drugs_found} times.\")"
   ]
  },
  {
   "cell_type": "markdown",
   "id": "56b274cd",
   "metadata": {},
   "source": [
    "### Identifying the Most Active Officer\n",
    "\n",
    "Question: Which officer has made the most stops?\n",
    "\n",
    "To identify the officer who has conducted the most traffic stops, we employ a two-step process using Pandas functions:\n",
    "\n",
    "1. **Frequency Count:** We use the `value_counts()` function to count the frequency of each unique value in the `officer_id_hash` column. This step helps in determining how many stops each officer has made.\n",
    "\n",
    "2. **Maximum Stops Identification:** \n",
    "    - The `idxmax()` function is utilized to find the ID of the officer with the highest count of stops. \n",
    "    - The `max()` function is then used to retrieve the actual number of stops made by that officer. \n",
    "\n",
    "This analysis could provide insights into the activity level or area coverage of individual officers. The results are then displayed to identify the most active officer in the dataset.\n"
   ]
  },
  {
   "cell_type": "code",
   "execution_count": 10,
   "id": "3595a339",
   "metadata": {},
   "outputs": [
    {
     "name": "stdout",
     "output_type": "stream",
     "text": [
      "The officer who made the most stops has the id b5ca91d71f, with 40790 stops.\n"
     ]
    }
   ],
   "source": [
    "officer_most_stops = df['officer_id_hash'].value_counts().idxmax()\n",
    "num_stops = df['officer_id_hash'].value_counts().max()\n",
    "print(f\"The officer who made the most stops has the id {officer_most_stops}, with {num_stops} stops.\")"
   ]
  },
  {
   "cell_type": "markdown",
   "id": "76d67a2b",
   "metadata": {},
   "source": [
    "### Calculating Arrest Rate\n",
    "\n",
    "Question: What is the overall percentage of traffic stops that result in an arrest?\n",
    "\n",
    "This analysis provides insights into how frequently traffic stops lead to arrests.\n"
   ]
  },
  {
   "cell_type": "code",
   "execution_count": 15,
   "id": "c46cde49",
   "metadata": {},
   "outputs": [
    {
     "name": "stdout",
     "output_type": "stream",
     "text": [
      "Percentage of stops resulting in an arrest: 1.6235690773570548%\n"
     ]
    }
   ],
   "source": [
    "percentage_arrests = df['arrest_made'].mean() * 100\n",
    "print(f'Percentage of stops resulting in an arrest: {percentage_arrests}%')"
   ]
  },
  {
   "cell_type": "markdown",
   "id": "973b872b",
   "metadata": {},
   "source": [
    "### Exploring Reasons for Stops\n",
    "\n",
    "Question: What are the various reasons for traffic stops?\n",
    "\n",
    "This section lists out the unique reasons recorded for traffic stops, providing an overview of the most common factors leading to police stops.\n"
   ]
  },
  {
   "cell_type": "code",
   "execution_count": 18,
   "id": "8b2e703e",
   "metadata": {},
   "outputs": [
    {
     "name": "stdout",
     "output_type": "stream",
     "text": [
      "['investigative stop' 'moving traffic violation'\n",
      " 'vehicle equipment violation' 'registration' 'seatbelt violation'\n",
      " 'safety violation' nan 'parking violation' 'child restraint']\n"
     ]
    }
   ],
   "source": [
    "unique_reasons = df['reason_for_stop'].unique()\n",
    "print(unique_reasons)"
   ]
  }
 ],
 "metadata": {
  "kernelspec": {
   "display_name": "Python 3 (ipykernel)",
   "language": "python",
   "name": "python3"
  },
  "language_info": {
   "codemirror_mode": {
    "name": "ipython",
    "version": 3
   },
   "file_extension": ".py",
   "mimetype": "text/x-python",
   "name": "python",
   "nbconvert_exporter": "python",
   "pygments_lexer": "ipython3",
   "version": "3.10.9"
  }
 },
 "nbformat": 4,
 "nbformat_minor": 5
}
